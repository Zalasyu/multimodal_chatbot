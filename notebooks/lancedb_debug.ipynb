{
 "cells": [
  {
   "cell_type": "markdown",
   "metadata": {},
   "source": [
    "# LanceDB Debugging and Exploration"
   ]
  },
  {
   "cell_type": "code",
   "execution_count": 1,
   "metadata": {},
   "outputs": [],
   "source": [
    "import sys\n",
    "from pathlib import Path\n",
    "\n",
    "# Get the project root directory\n",
    "project_root = Path.cwd().parent  # Adjust if your notebook is nested differently\n",
    "sys.path.append(str(project_root))"
   ]
  },
  {
   "cell_type": "code",
   "execution_count": 2,
   "metadata": {},
   "outputs": [
    {
     "name": "stderr",
     "output_type": "stream",
     "text": [
      "/home/zalasyu/.cache/pypoetry/virtualenvs/multimodal-chatbot-gKQKVxne-py3.12/lib/python3.12/site-packages/tqdm/auto.py:21: TqdmWarning: IProgress not found. Please update jupyter and ipywidgets. See https://ipywidgets.readthedocs.io/en/stable/user_install.html\n",
      "  from .autonotebook import tqdm as notebook_tqdm\n"
     ]
    }
   ],
   "source": [
    "import lancedb\n",
    "from lancedb.table import Table\n",
    "from lancedb.pydantic import pydantic_to_schema\n",
    "\n",
    "from models.data_models import VideoData, VideoSegmentData\n",
    "from models.lancedb_pydantic_models import VideoModel, VideoSegmentModel\n",
    "from mm_vector_stores.multimodal_lancedb import MultiModalLanceDB\n",
    "from mm_emeddings.bridgetower_embeddings import BridgeTowerEmbeddings\n",
    "from utils.logger import logger"
   ]
  },
  {
   "cell_type": "code",
   "execution_count": 3,
   "metadata": {},
   "outputs": [],
   "source": [
    "embedder = BridgeTowerEmbeddings()"
   ]
  },
  {
   "cell_type": "code",
   "execution_count": 4,
   "metadata": {},
   "outputs": [],
   "source": [
    "db = MultiModalLanceDB(uri=\"/home/zalasyu/Documents/projects/multimodal_chatbot/data/multimodal_lancedb\", embedding=embedder)"
   ]
  },
  {
   "cell_type": "code",
   "execution_count": 5,
   "metadata": {},
   "outputs": [
    {
     "data": {
      "text/plain": [
       "LanceTable(connection=LanceDBConnection(/home/zalasyu/Documents/projects/multimodal_chatbot/data/multimodal_lancedb), name=\"Videos\")"
      ]
     },
     "execution_count": 5,
     "metadata": {},
     "output_type": "execute_result"
    }
   ],
   "source": [
    "db.get_table(\"Videos\")"
   ]
  },
  {
   "cell_type": "code",
   "execution_count": 6,
   "metadata": {},
   "outputs": [],
   "source": [
    "videos_table = db.get_table(\"Videos\")\n",
    "video_segments_table = db.get_table(\"VideoSegments\")"
   ]
  },
  {
   "cell_type": "code",
   "execution_count": 7,
   "metadata": {},
   "outputs": [
    {
     "data": {
      "text/html": [
       "<div>\n",
       "<style scoped>\n",
       "    .dataframe tbody tr th:only-of-type {\n",
       "        vertical-align: middle;\n",
       "    }\n",
       "\n",
       "    .dataframe tbody tr th {\n",
       "        vertical-align: top;\n",
       "    }\n",
       "\n",
       "    .dataframe thead th {\n",
       "        text-align: right;\n",
       "    }\n",
       "</style>\n",
       "<table border=\"1\" class=\"dataframe\">\n",
       "  <thead>\n",
       "    <tr style=\"text-align: right;\">\n",
       "      <th></th>\n",
       "      <th>id</th>\n",
       "      <th>video_url</th>\n",
       "      <th>title</th>\n",
       "      <th>description</th>\n",
       "      <th>summary_abstractive</th>\n",
       "      <th>summary_extractive</th>\n",
       "      <th>language</th>\n",
       "      <th>video_path</th>\n",
       "      <th>audio_path</th>\n",
       "      <th>transcript_path_vtt</th>\n",
       "      <th>transcript_path_text</th>\n",
       "      <th>transcribed</th>\n",
       "      <th>description_path</th>\n",
       "    </tr>\n",
       "  </thead>\n",
       "  <tbody>\n",
       "    <tr>\n",
       "      <th>0</th>\n",
       "      <td>LAzKGkTIKpg</td>\n",
       "      <td>https://www.youtube.com/watch?v=LAzKGkTIKpg</td>\n",
       "      <td>LITERATURE - Voltaire</td>\n",
       "      <td>Voltaire was one of the wisest, funniest and c...</td>\n",
       "      <td></td>\n",
       "      <td>François-Marie Arouet was born in 1694 . he de...</td>\n",
       "      <td>en</td>\n",
       "      <td>/home/zalasyu/Documents/projects/multimodal_ch...</td>\n",
       "      <td>/home/zalasyu/Documents/projects/multimodal_ch...</td>\n",
       "      <td>data/raw/transcripts/YouTube/LITERATURE_-_Volt...</td>\n",
       "      <td>data/raw/transcripts/YouTube/LITERATURE_-_Volt...</td>\n",
       "      <td>True</td>\n",
       "      <td>None</td>\n",
       "    </tr>\n",
       "  </tbody>\n",
       "</table>\n",
       "</div>"
      ],
      "text/plain": [
       "            id                                    video_url  \\\n",
       "0  LAzKGkTIKpg  https://www.youtube.com/watch?v=LAzKGkTIKpg   \n",
       "\n",
       "                   title                                        description  \\\n",
       "0  LITERATURE - Voltaire  Voltaire was one of the wisest, funniest and c...   \n",
       "\n",
       "  summary_abstractive                                 summary_extractive  \\\n",
       "0                      François-Marie Arouet was born in 1694 . he de...   \n",
       "\n",
       "  language                                         video_path  \\\n",
       "0       en  /home/zalasyu/Documents/projects/multimodal_ch...   \n",
       "\n",
       "                                          audio_path  \\\n",
       "0  /home/zalasyu/Documents/projects/multimodal_ch...   \n",
       "\n",
       "                                 transcript_path_vtt  \\\n",
       "0  data/raw/transcripts/YouTube/LITERATURE_-_Volt...   \n",
       "\n",
       "                                transcript_path_text  transcribed  \\\n",
       "0  data/raw/transcripts/YouTube/LITERATURE_-_Volt...         True   \n",
       "\n",
       "  description_path  \n",
       "0             None  "
      ]
     },
     "execution_count": 7,
     "metadata": {},
     "output_type": "execute_result"
    }
   ],
   "source": [
    "videos_table.to_pandas().head()"
   ]
  },
  {
   "cell_type": "code",
   "execution_count": 8,
   "metadata": {},
   "outputs": [
    {
     "data": {
      "text/plain": [
       "pyarrow.Table\n",
       "id: int64 not null\n",
       "parent_video_id: string not null\n",
       "parent_video_path: string not null\n",
       "parent_audio_path: string not null\n",
       "parent_vtt_path: string not null\n",
       "video_segment_path: string not null\n",
       "video_segment_transcript_path: string not null\n",
       "frame_path: string not null\n",
       "transcript: string not null\n",
       "enriched_transcript: string not null\n",
       "duration_ms: double not null\n",
       "start_ms: double not null\n",
       "mid_ms: double not null\n",
       "end_ms: double not null\n",
       "embeddings: fixed_size_list<item: float>[1536] not null\n",
       "  child 0, item: float\n",
       "----\n",
       "id: [[0,1,2,3,4]]\n",
       "parent_video_id: [[\"LAzKGkTIKpg\",\"LAzKGkTIKpg\",\"LAzKGkTIKpg\",\"LAzKGkTIKpg\",\"LAzKGkTIKpg\"]]\n",
       "parent_video_path: [[\"/home/zalasyu/Documents/projects/multimodal_chatbot/data/raw/videos/YouTube/LITERATURE_-_Voltaire_LAzKGkTIKpg.mp4\",\"/home/zalasyu/Documents/projects/multimodal_chatbot/data/raw/videos/YouTube/LITERATURE_-_Voltaire_LAzKGkTIKpg.mp4\",\"/home/zalasyu/Documents/projects/multimodal_chatbot/data/raw/videos/YouTube/LITERATURE_-_Voltaire_LAzKGkTIKpg.mp4\",\"/home/zalasyu/Documents/projects/multimodal_chatbot/data/raw/videos/YouTube/LITERATURE_-_Voltaire_LAzKGkTIKpg.mp4\",\"/home/zalasyu/Documents/projects/multimodal_chatbot/data/raw/videos/YouTube/LITERATURE_-_Voltaire_LAzKGkTIKpg.mp4\"]]\n",
       "parent_audio_path: [[\"/home/zalasyu/Documents/projects/multimodal_chatbot/data/raw/audios/YouTube/LITERATURE_-_Voltaire_LAzKGkTIKpg.mp3\",\"/home/zalasyu/Documents/projects/multimodal_chatbot/data/raw/audios/YouTube/LITERATURE_-_Voltaire_LAzKGkTIKpg.mp3\",\"/home/zalasyu/Documents/projects/multimodal_chatbot/data/raw/audios/YouTube/LITERATURE_-_Voltaire_LAzKGkTIKpg.mp3\",\"/home/zalasyu/Documents/projects/multimodal_chatbot/data/raw/audios/YouTube/LITERATURE_-_Voltaire_LAzKGkTIKpg.mp3\",\"/home/zalasyu/Documents/projects/multimodal_chatbot/data/raw/audios/YouTube/LITERATURE_-_Voltaire_LAzKGkTIKpg.mp3\"]]\n",
       "parent_vtt_path: [[\"data/raw/transcripts/YouTube/LITERATURE_-_Voltaire_LAzKGkTIKpg.vtt\",\"data/raw/transcripts/YouTube/LITERATURE_-_Voltaire_LAzKGkTIKpg.vtt\",\"data/raw/transcripts/YouTube/LITERATURE_-_Voltaire_LAzKGkTIKpg.vtt\",\"data/raw/transcripts/YouTube/LITERATURE_-_Voltaire_LAzKGkTIKpg.vtt\",\"data/raw/transcripts/YouTube/LITERATURE_-_Voltaire_LAzKGkTIKpg.vtt\"]]\n",
       "video_segment_path: [[\"/home/zalasyu/Documents/projects/multimodal_chatbot/data/processed/video_frames/LAzKGkTIKpg/segment_0/segment_0.mp4\",\"/home/zalasyu/Documents/projects/multimodal_chatbot/data/processed/video_frames/LAzKGkTIKpg/segment_1/segment_1.mp4\",\"/home/zalasyu/Documents/projects/multimodal_chatbot/data/processed/video_frames/LAzKGkTIKpg/segment_2/segment_2.mp4\",\"/home/zalasyu/Documents/projects/multimodal_chatbot/data/processed/video_frames/LAzKGkTIKpg/segment_3/segment_3.mp4\",\"/home/zalasyu/Documents/projects/multimodal_chatbot/data/processed/video_frames/LAzKGkTIKpg/segment_4/segment_4.mp4\"]]\n",
       "video_segment_transcript_path: [[\"/home/zalasyu/Documents/projects/multimodal_chatbot/data/processed/video_frames/LAzKGkTIKpg/segment_0/segment_0.vtt\",\"/home/zalasyu/Documents/projects/multimodal_chatbot/data/processed/video_frames/LAzKGkTIKpg/segment_1/segment_1.vtt\",\"/home/zalasyu/Documents/projects/multimodal_chatbot/data/processed/video_frames/LAzKGkTIKpg/segment_2/segment_2.vtt\",\"/home/zalasyu/Documents/projects/multimodal_chatbot/data/processed/video_frames/LAzKGkTIKpg/segment_3/segment_3.vtt\",\"/home/zalasyu/Documents/projects/multimodal_chatbot/data/processed/video_frames/LAzKGkTIKpg/segment_4/segment_4.vtt\"]]\n",
       "frame_path: [[\"/home/zalasyu/Documents/projects/multimodal_chatbot/data/processed/video_frames/LAzKGkTIKpg/segment_0/frame_12000.jpg\",\"/home/zalasyu/Documents/projects/multimodal_chatbot/data/processed/video_frames/LAzKGkTIKpg/segment_1/frame_17000.jpg\",\"/home/zalasyu/Documents/projects/multimodal_chatbot/data/processed/video_frames/LAzKGkTIKpg/segment_2/frame_23000.jpg\",\"/home/zalasyu/Documents/projects/multimodal_chatbot/data/processed/video_frames/LAzKGkTIKpg/segment_3/frame_29500.jpg\",\"/home/zalasyu/Documents/projects/multimodal_chatbot/data/processed/video_frames/LAzKGkTIKpg/segment_4/frame_36000.jpg\"]]\n",
       "transcript: [[\"François-Marie Arouet was born in Paris in 1694. His father, a well-established lawyer,\",\"sent him to the best school in the capital, and by all accounts he was a brilliant student.\",\"The young Arouet decided at an early age to make his name as a writer, or rather to remake\",\"his name, as the first thing he did was to change this name to Voltaire. The 18th century is often\",\"referred to as the age of reason or the age of enlightenment, but sometimes more fairly,\"]]\n",
       "enriched_transcript: [[\"François-Marie Arouet was born in Paris in 1694. His father, a well-established lawyer, sent him to the best school in the capital, and by all accounts he was a brilliant student. The young Arouet decided at an early age to make his name as a writer, or rather to remake his name, as the first thing he did was to change this name to Voltaire. The 18th century is often referred to as the age of reason or the age of enlightenment, but sometimes more fairly, simply as the age of Voltaire. So changing his name was a good call. The age of Arouet would just not have worked quite as well. Voltaire was precociously talented as a poet. At the age of only 24, he had his first verse tragedy performed at the Comédie Francaise. By then, he had already begun work on an epic poem about the French religious civil wars of the 16th century, glorifying Henry IV as the king who brought peace by pragmatically converting from Protestantism to Catholicism. This was to be a subject dear to Voltaire's heart. For under the guise of writing a national epic, he was dwelling at length on the bloody consequences of religious intolerance. Right from the start, Voltaire's views on religion were expressed robustly. He was not an atheist,\",\"François-Marie Arouet was born in Paris in 1694. His father, a well-established lawyer, sent him to the best school in the capital, and by all accounts he was a brilliant student. The young Arouet decided at an early age to make his name as a writer, or rather to remake his name, as the first thing he did was to change this name to Voltaire. The 18th century is often referred to as the age of reason or the age of enlightenment, but sometimes more fairly, simply as the age of Voltaire. So changing his name was a good call. The age of Arouet would just not have worked quite as well. Voltaire was precociously talented as a poet. At the age of only 24, he had his first verse tragedy performed at the Comédie Francaise. By then, he had already begun work on an epic poem about the French religious civil wars of the 16th century, glorifying Henry IV as the king who brought peace by pragmatically converting from Protestantism to Catholicism. This was to be a subject dear to Voltaire's heart. For under the guise of writing a national epic, he was dwelling at length on the bloody consequences of religious intolerance. Right from the start, Voltaire's views on religion were expressed robustly. He was not an atheist, in part because he thought that some minimal belief in a deity was useful for social cohesion.\",\"François-Marie Arouet was born in Paris in 1694. His father, a well-established lawyer, sent him to the best school in the capital, and by all accounts he was a brilliant student. The young Arouet decided at an early age to make his name as a writer, or rather to remake his name, as the first thing he did was to change this name to Voltaire. The 18th century is often referred to as the age of reason or the age of enlightenment, but sometimes more fairly, simply as the age of Voltaire. So changing his name was a good call. The age of Arouet would just not have worked quite as well. Voltaire was precociously talented as a poet. At the age of only 24, he had his first verse tragedy performed at the Comédie Francaise. By then, he had already begun work on an epic poem about the French religious civil wars of the 16th century, glorifying Henry IV as the king who brought peace by pragmatically converting from Protestantism to Catholicism. This was to be a subject dear to Voltaire's heart. For under the guise of writing a national epic, he was dwelling at length on the bloody consequences of religious intolerance. Right from the start, Voltaire's views on religion were expressed robustly. He was not an atheist, in part because he thought that some minimal belief in a deity was useful for social cohesion. Voltaire's god had created the world, instilled in us a sense of good and evil, and then basically\",\"François-Marie Arouet was born in Paris in 1694. His father, a well-established lawyer, sent him to the best school in the capital, and by all accounts he was a brilliant student. The young Arouet decided at an early age to make his name as a writer, or rather to remake his name, as the first thing he did was to change this name to Voltaire. The 18th century is often referred to as the age of reason or the age of enlightenment, but sometimes more fairly, simply as the age of Voltaire. So changing his name was a good call. The age of Arouet would just not have worked quite as well. Voltaire was precociously talented as a poet. At the age of only 24, he had his first verse tragedy performed at the Comédie Francaise. By then, he had already begun work on an epic poem about the French religious civil wars of the 16th century, glorifying Henry IV as the king who brought peace by pragmatically converting from Protestantism to Catholicism. This was to be a subject dear to Voltaire's heart. For under the guise of writing a national epic, he was dwelling at length on the bloody consequences of religious intolerance. Right from the start, Voltaire's views on religion were expressed robustly. He was not an atheist, in part because he thought that some minimal belief in a deity was useful for social cohesion. Voltaire's god had created the world, instilled in us a sense of good and evil, and then basically taken a back seat. This was known as rational religion, or in the 18th century called natural\",\"François-Marie Arouet was born in Paris in 1694. His father, a well-established lawyer, sent him to the best school in the capital, and by all accounts he was a brilliant student. The young Arouet decided at an early age to make his name as a writer, or rather to remake his name, as the first thing he did was to change this name to Voltaire. The 18th century is often referred to as the age of reason or the age of enlightenment, but sometimes more fairly, simply as the age of Voltaire. So changing his name was a good call. The age of Arouet would just not have worked quite as well. Voltaire was precociously talented as a poet. At the age of only 24, he had his first verse tragedy performed at the Comédie Francaise. By then, he had already begun work on an epic poem about the French religious civil wars of the 16th century, glorifying Henry IV as the king who brought peace by pragmatically converting from Protestantism to Catholicism. This was to be a subject dear to Voltaire's heart. For under the guise of writing a national epic, he was dwelling at length on the bloody consequences of religious intolerance. Right from the start, Voltaire's views on religion were expressed robustly. He was not an atheist, in part because he thought that some minimal belief in a deity was useful for social cohesion. Voltaire's god had created the world, instilled in us a sense of good and evil, and then basically taken a back seat. This was known as rational religion, or in the 18th century called natural religion, or deism. And it had no truck with metaphysics of any kind. Voltaire was basically\"]]\n",
       "..."
      ]
     },
     "execution_count": 8,
     "metadata": {},
     "output_type": "execute_result"
    }
   ],
   "source": [
    "video_segments_table.head()"
   ]
  },
  {
   "cell_type": "code",
   "execution_count": 9,
   "metadata": {},
   "outputs": [],
   "source": [
    "df = video_segments_table.to_pandas()"
   ]
  },
  {
   "cell_type": "code",
   "execution_count": 10,
   "metadata": {},
   "outputs": [
    {
     "data": {
      "text/plain": [
       "array([ 0.00195367,  0.03847323, -0.00078782, ..., -0.02516887,\n",
       "        0.03434976, -0.02883583], dtype=float32)"
      ]
     },
     "execution_count": 10,
     "metadata": {},
     "output_type": "execute_result"
    }
   ],
   "source": [
    "df[\"embeddings\"][0]"
   ]
  },
  {
   "cell_type": "markdown",
   "metadata": {},
   "source": [
    "## Query Testing"
   ]
  },
  {
   "cell_type": "code",
   "execution_count": 11,
   "metadata": {},
   "outputs": [],
   "source": [
    "query = \"Where did Voltaire move to?\"\n",
    "query_embedding = embedder.embed_query(query)"
   ]
  },
  {
   "cell_type": "code",
   "execution_count": 12,
   "metadata": {},
   "outputs": [],
   "source": [
    "retriever = db.as_retriever(search_type=\"similarity\", search_kwargs={\"k\": 1})"
   ]
  },
  {
   "cell_type": "code",
   "execution_count": 13,
   "metadata": {},
   "outputs": [
    {
     "ename": "KeyError",
     "evalue": "'Field \"metadata\" does not exist in schema'",
     "output_type": "error",
     "traceback": [
      "\u001b[0;31m---------------------------------------------------------------------------\u001b[0m",
      "\u001b[0;31mKeyError\u001b[0m                                  Traceback (most recent call last)",
      "Cell \u001b[0;32mIn[13], line 1\u001b[0m\n\u001b[0;32m----> 1\u001b[0m results \u001b[38;5;241m=\u001b[39m \u001b[43mretriever\u001b[49m\u001b[38;5;241;43m.\u001b[39;49m\u001b[43minvoke\u001b[49m\u001b[43m(\u001b[49m\u001b[43mquery\u001b[49m\u001b[43m)\u001b[49m\n",
      "File \u001b[0;32m~/.cache/pypoetry/virtualenvs/multimodal-chatbot-gKQKVxne-py3.12/lib/python3.12/site-packages/langchain_core/retrievers.py:254\u001b[0m, in \u001b[0;36mBaseRetriever.invoke\u001b[0;34m(self, input, config, **kwargs)\u001b[0m\n\u001b[1;32m    252\u001b[0m \u001b[38;5;28;01mexcept\u001b[39;00m \u001b[38;5;167;01mException\u001b[39;00m \u001b[38;5;28;01mas\u001b[39;00m e:\n\u001b[1;32m    253\u001b[0m     run_manager\u001b[38;5;241m.\u001b[39mon_retriever_error(e)\n\u001b[0;32m--> 254\u001b[0m     \u001b[38;5;28;01mraise\u001b[39;00m e\n\u001b[1;32m    255\u001b[0m \u001b[38;5;28;01melse\u001b[39;00m:\n\u001b[1;32m    256\u001b[0m     run_manager\u001b[38;5;241m.\u001b[39mon_retriever_end(\n\u001b[1;32m    257\u001b[0m         result,\n\u001b[1;32m    258\u001b[0m     )\n",
      "File \u001b[0;32m~/.cache/pypoetry/virtualenvs/multimodal-chatbot-gKQKVxne-py3.12/lib/python3.12/site-packages/langchain_core/retrievers.py:247\u001b[0m, in \u001b[0;36mBaseRetriever.invoke\u001b[0;34m(self, input, config, **kwargs)\u001b[0m\n\u001b[1;32m    245\u001b[0m _kwargs \u001b[38;5;241m=\u001b[39m kwargs \u001b[38;5;28;01mif\u001b[39;00m \u001b[38;5;28mself\u001b[39m\u001b[38;5;241m.\u001b[39m_expects_other_args \u001b[38;5;28;01melse\u001b[39;00m {}\n\u001b[1;32m    246\u001b[0m \u001b[38;5;28;01mif\u001b[39;00m \u001b[38;5;28mself\u001b[39m\u001b[38;5;241m.\u001b[39m_new_arg_supported:\n\u001b[0;32m--> 247\u001b[0m     result \u001b[38;5;241m=\u001b[39m \u001b[38;5;28;43mself\u001b[39;49m\u001b[38;5;241;43m.\u001b[39;49m\u001b[43m_get_relevant_documents\u001b[49m\u001b[43m(\u001b[49m\n\u001b[1;32m    248\u001b[0m \u001b[43m        \u001b[49m\u001b[38;5;28;43minput\u001b[39;49m\u001b[43m,\u001b[49m\u001b[43m \u001b[49m\u001b[43mrun_manager\u001b[49m\u001b[38;5;241;43m=\u001b[39;49m\u001b[43mrun_manager\u001b[49m\u001b[43m,\u001b[49m\u001b[43m \u001b[49m\u001b[38;5;241;43m*\u001b[39;49m\u001b[38;5;241;43m*\u001b[39;49m\u001b[43m_kwargs\u001b[49m\n\u001b[1;32m    249\u001b[0m \u001b[43m    \u001b[49m\u001b[43m)\u001b[49m\n\u001b[1;32m    250\u001b[0m \u001b[38;5;28;01melse\u001b[39;00m:\n\u001b[1;32m    251\u001b[0m     result \u001b[38;5;241m=\u001b[39m \u001b[38;5;28mself\u001b[39m\u001b[38;5;241m.\u001b[39m_get_relevant_documents(\u001b[38;5;28minput\u001b[39m, \u001b[38;5;241m*\u001b[39m\u001b[38;5;241m*\u001b[39m_kwargs)\n",
      "File \u001b[0;32m~/.cache/pypoetry/virtualenvs/multimodal-chatbot-gKQKVxne-py3.12/lib/python3.12/site-packages/langchain_core/vectorstores/base.py:1080\u001b[0m, in \u001b[0;36mVectorStoreRetriever._get_relevant_documents\u001b[0;34m(self, query, run_manager)\u001b[0m\n\u001b[1;32m   1076\u001b[0m \u001b[38;5;28;01mdef\u001b[39;00m \u001b[38;5;21m_get_relevant_documents\u001b[39m(\n\u001b[1;32m   1077\u001b[0m     \u001b[38;5;28mself\u001b[39m, query: \u001b[38;5;28mstr\u001b[39m, \u001b[38;5;241m*\u001b[39m, run_manager: CallbackManagerForRetrieverRun\n\u001b[1;32m   1078\u001b[0m ) \u001b[38;5;241m-\u001b[39m\u001b[38;5;241m>\u001b[39m \u001b[38;5;28mlist\u001b[39m[Document]:\n\u001b[1;32m   1079\u001b[0m     \u001b[38;5;28;01mif\u001b[39;00m \u001b[38;5;28mself\u001b[39m\u001b[38;5;241m.\u001b[39msearch_type \u001b[38;5;241m==\u001b[39m \u001b[38;5;124m\"\u001b[39m\u001b[38;5;124msimilarity\u001b[39m\u001b[38;5;124m\"\u001b[39m:\n\u001b[0;32m-> 1080\u001b[0m         docs \u001b[38;5;241m=\u001b[39m \u001b[38;5;28;43mself\u001b[39;49m\u001b[38;5;241;43m.\u001b[39;49m\u001b[43mvectorstore\u001b[49m\u001b[38;5;241;43m.\u001b[39;49m\u001b[43msimilarity_search\u001b[49m\u001b[43m(\u001b[49m\u001b[43mquery\u001b[49m\u001b[43m,\u001b[49m\u001b[43m \u001b[49m\u001b[38;5;241;43m*\u001b[39;49m\u001b[38;5;241;43m*\u001b[39;49m\u001b[38;5;28;43mself\u001b[39;49m\u001b[38;5;241;43m.\u001b[39;49m\u001b[43msearch_kwargs\u001b[49m\u001b[43m)\u001b[49m\n\u001b[1;32m   1081\u001b[0m     \u001b[38;5;28;01melif\u001b[39;00m \u001b[38;5;28mself\u001b[39m\u001b[38;5;241m.\u001b[39msearch_type \u001b[38;5;241m==\u001b[39m \u001b[38;5;124m\"\u001b[39m\u001b[38;5;124msimilarity_score_threshold\u001b[39m\u001b[38;5;124m\"\u001b[39m:\n\u001b[1;32m   1082\u001b[0m         docs_and_similarities \u001b[38;5;241m=\u001b[39m (\n\u001b[1;32m   1083\u001b[0m             \u001b[38;5;28mself\u001b[39m\u001b[38;5;241m.\u001b[39mvectorstore\u001b[38;5;241m.\u001b[39msimilarity_search_with_relevance_scores(\n\u001b[1;32m   1084\u001b[0m                 query, \u001b[38;5;241m*\u001b[39m\u001b[38;5;241m*\u001b[39m\u001b[38;5;28mself\u001b[39m\u001b[38;5;241m.\u001b[39msearch_kwargs\n\u001b[1;32m   1085\u001b[0m             )\n\u001b[1;32m   1086\u001b[0m         )\n",
      "File \u001b[0;32m~/.cache/pypoetry/virtualenvs/multimodal-chatbot-gKQKVxne-py3.12/lib/python3.12/site-packages/langchain_community/vectorstores/lancedb.py:524\u001b[0m, in \u001b[0;36mLanceDB.similarity_search\u001b[0;34m(self, query, k, name, filter, fts, **kwargs)\u001b[0m\n\u001b[1;32m    500\u001b[0m \u001b[38;5;28;01mdef\u001b[39;00m \u001b[38;5;21msimilarity_search\u001b[39m(\n\u001b[1;32m    501\u001b[0m     \u001b[38;5;28mself\u001b[39m,\n\u001b[1;32m    502\u001b[0m     query: \u001b[38;5;28mstr\u001b[39m,\n\u001b[0;32m   (...)\u001b[0m\n\u001b[1;32m    507\u001b[0m     \u001b[38;5;241m*\u001b[39m\u001b[38;5;241m*\u001b[39mkwargs: Any,\n\u001b[1;32m    508\u001b[0m ) \u001b[38;5;241m-\u001b[39m\u001b[38;5;241m>\u001b[39m List[Document]:\n\u001b[1;32m    509\u001b[0m \u001b[38;5;250m    \u001b[39m\u001b[38;5;124;03m\"\"\"Return documents most similar to the query\u001b[39;00m\n\u001b[1;32m    510\u001b[0m \n\u001b[1;32m    511\u001b[0m \u001b[38;5;124;03m    Args:\u001b[39;00m\n\u001b[0;32m   (...)\u001b[0m\n\u001b[1;32m    522\u001b[0m \u001b[38;5;124;03m        List of documents most similar to the query.\u001b[39;00m\n\u001b[1;32m    523\u001b[0m \u001b[38;5;124;03m    \"\"\"\u001b[39;00m\n\u001b[0;32m--> 524\u001b[0m     res \u001b[38;5;241m=\u001b[39m \u001b[38;5;28;43mself\u001b[39;49m\u001b[38;5;241;43m.\u001b[39;49m\u001b[43msimilarity_search_with_score\u001b[49m\u001b[43m(\u001b[49m\n\u001b[1;32m    525\u001b[0m \u001b[43m        \u001b[49m\u001b[43mquery\u001b[49m\u001b[38;5;241;43m=\u001b[39;49m\u001b[43mquery\u001b[49m\u001b[43m,\u001b[49m\u001b[43m \u001b[49m\u001b[43mk\u001b[49m\u001b[38;5;241;43m=\u001b[39;49m\u001b[43mk\u001b[49m\u001b[43m,\u001b[49m\u001b[43m \u001b[49m\u001b[43mname\u001b[49m\u001b[38;5;241;43m=\u001b[39;49m\u001b[43mname\u001b[49m\u001b[43m,\u001b[49m\u001b[43m \u001b[49m\u001b[38;5;28;43mfilter\u001b[39;49m\u001b[38;5;241;43m=\u001b[39;49m\u001b[38;5;28;43mfilter\u001b[39;49m\u001b[43m,\u001b[49m\u001b[43m \u001b[49m\u001b[43mfts\u001b[49m\u001b[38;5;241;43m=\u001b[39;49m\u001b[43mfts\u001b[49m\u001b[43m,\u001b[49m\u001b[43m \u001b[49m\u001b[43mscore\u001b[49m\u001b[38;5;241;43m=\u001b[39;49m\u001b[38;5;28;43;01mFalse\u001b[39;49;00m\u001b[43m,\u001b[49m\u001b[43m \u001b[49m\u001b[38;5;241;43m*\u001b[39;49m\u001b[38;5;241;43m*\u001b[39;49m\u001b[43mkwargs\u001b[49m\n\u001b[1;32m    526\u001b[0m \u001b[43m    \u001b[49m\u001b[43m)\u001b[49m\n\u001b[1;32m    527\u001b[0m     \u001b[38;5;28;01mreturn\u001b[39;00m res\n",
      "File \u001b[0;32m~/.cache/pypoetry/virtualenvs/multimodal-chatbot-gKQKVxne-py3.12/lib/python3.12/site-packages/langchain_community/vectorstores/lancedb.py:498\u001b[0m, in \u001b[0;36mLanceDB.similarity_search_with_score\u001b[0;34m(self, query, k, filter, **kwargs)\u001b[0m\n\u001b[1;32m    496\u001b[0m embedding \u001b[38;5;241m=\u001b[39m \u001b[38;5;28mself\u001b[39m\u001b[38;5;241m.\u001b[39m_embedding\u001b[38;5;241m.\u001b[39membed_query(query)\n\u001b[1;32m    497\u001b[0m res \u001b[38;5;241m=\u001b[39m \u001b[38;5;28mself\u001b[39m\u001b[38;5;241m.\u001b[39m_query(embedding, k, \u001b[38;5;28mfilter\u001b[39m\u001b[38;5;241m=\u001b[39m\u001b[38;5;28mfilter\u001b[39m, \u001b[38;5;241m*\u001b[39m\u001b[38;5;241m*\u001b[39mkwargs)\n\u001b[0;32m--> 498\u001b[0m \u001b[38;5;28;01mreturn\u001b[39;00m \u001b[38;5;28;43mself\u001b[39;49m\u001b[38;5;241;43m.\u001b[39;49m\u001b[43mresults_to_docs\u001b[49m\u001b[43m(\u001b[49m\u001b[43mres\u001b[49m\u001b[43m,\u001b[49m\u001b[43m \u001b[49m\u001b[43mscore\u001b[49m\u001b[38;5;241;43m=\u001b[39;49m\u001b[43mscore\u001b[49m\u001b[43m)\u001b[49m\n",
      "File \u001b[0;32m~/.cache/pypoetry/virtualenvs/multimodal-chatbot-gKQKVxne-py3.12/lib/python3.12/site-packages/langchain_community/vectorstores/lancedb.py:158\u001b[0m, in \u001b[0;36mLanceDB.results_to_docs\u001b[0;34m(self, results, score)\u001b[0m\n\u001b[1;32m    152\u001b[0m     score_col \u001b[38;5;241m=\u001b[39m \u001b[38;5;28;01mNone\u001b[39;00m\n\u001b[1;32m    154\u001b[0m \u001b[38;5;28;01mif\u001b[39;00m score_col \u001b[38;5;129;01mis\u001b[39;00m \u001b[38;5;28;01mNone\u001b[39;00m \u001b[38;5;129;01mor\u001b[39;00m \u001b[38;5;129;01mnot\u001b[39;00m score:\n\u001b[1;32m    155\u001b[0m     \u001b[38;5;28;01mreturn\u001b[39;00m [\n\u001b[1;32m    156\u001b[0m         Document(\n\u001b[1;32m    157\u001b[0m             page_content\u001b[38;5;241m=\u001b[39mresults[\u001b[38;5;28mself\u001b[39m\u001b[38;5;241m.\u001b[39m_text_key][idx]\u001b[38;5;241m.\u001b[39mas_py(),\n\u001b[0;32m--> 158\u001b[0m             metadata\u001b[38;5;241m=\u001b[39m\u001b[43mresults\u001b[49m\u001b[43m[\u001b[49m\u001b[38;5;124;43m\"\u001b[39;49m\u001b[38;5;124;43mmetadata\u001b[39;49m\u001b[38;5;124;43m\"\u001b[39;49m\u001b[43m]\u001b[49m[idx]\u001b[38;5;241m.\u001b[39mas_py(),\n\u001b[1;32m    159\u001b[0m         )\n\u001b[1;32m    160\u001b[0m         \u001b[38;5;28;01mfor\u001b[39;00m idx \u001b[38;5;129;01min\u001b[39;00m \u001b[38;5;28mrange\u001b[39m(\u001b[38;5;28mlen\u001b[39m(results))\n\u001b[1;32m    161\u001b[0m     ]\n\u001b[1;32m    162\u001b[0m \u001b[38;5;28;01melif\u001b[39;00m score_col \u001b[38;5;129;01mand\u001b[39;00m score:\n\u001b[1;32m    163\u001b[0m     \u001b[38;5;28;01mreturn\u001b[39;00m [\n\u001b[1;32m    164\u001b[0m         (\n\u001b[1;32m    165\u001b[0m             Document(\n\u001b[0;32m   (...)\u001b[0m\n\u001b[1;32m    171\u001b[0m         \u001b[38;5;28;01mfor\u001b[39;00m idx \u001b[38;5;129;01min\u001b[39;00m \u001b[38;5;28mrange\u001b[39m(\u001b[38;5;28mlen\u001b[39m(results))\n\u001b[1;32m    172\u001b[0m     ]\n",
      "File \u001b[0;32m~/.cache/pypoetry/virtualenvs/multimodal-chatbot-gKQKVxne-py3.12/lib/python3.12/site-packages/pyarrow/table.pxi:1693\u001b[0m, in \u001b[0;36mpyarrow.lib._Tabular.__getitem__\u001b[0;34m()\u001b[0m\n",
      "File \u001b[0;32m~/.cache/pypoetry/virtualenvs/multimodal-chatbot-gKQKVxne-py3.12/lib/python3.12/site-packages/pyarrow/table.pxi:1779\u001b[0m, in \u001b[0;36mpyarrow.lib._Tabular.column\u001b[0;34m()\u001b[0m\n",
      "File \u001b[0;32m~/.cache/pypoetry/virtualenvs/multimodal-chatbot-gKQKVxne-py3.12/lib/python3.12/site-packages/pyarrow/table.pxi:1715\u001b[0m, in \u001b[0;36mpyarrow.lib._Tabular._ensure_integer_index\u001b[0;34m()\u001b[0m\n",
      "\u001b[0;31mKeyError\u001b[0m: 'Field \"metadata\" does not exist in schema'"
     ]
    }
   ],
   "source": [
    "results = retriever.invoke(query)"
   ]
  },
  {
   "cell_type": "code",
   "execution_count": null,
   "metadata": {},
   "outputs": [],
   "source": []
  }
 ],
 "metadata": {
  "kernelspec": {
   "display_name": "multimodal-chatbot-gKQKVxne-py3.12",
   "language": "python",
   "name": "python3"
  },
  "language_info": {
   "codemirror_mode": {
    "name": "ipython",
    "version": 3
   },
   "file_extension": ".py",
   "mimetype": "text/x-python",
   "name": "python",
   "nbconvert_exporter": "python",
   "pygments_lexer": "ipython3",
   "version": "3.12.7"
  }
 },
 "nbformat": 4,
 "nbformat_minor": 2
}
