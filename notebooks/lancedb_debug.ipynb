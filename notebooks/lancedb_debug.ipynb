{
 "cells": [
  {
   "cell_type": "markdown",
   "metadata": {},
   "source": [
    "# LanceDB Debugging and Exploration"
   ]
  },
  {
   "cell_type": "code",
   "execution_count": 38,
   "metadata": {},
   "outputs": [],
   "source": [
    "import sys\n",
    "from pathlib import Path\n",
    "\n",
    "# Get the project root directory\n",
    "project_root = Path.cwd().parent  # Adjust if your notebook is nested differently\n",
    "sys.path.append(str(project_root))"
   ]
  },
  {
   "cell_type": "code",
   "execution_count": 39,
   "metadata": {},
   "outputs": [],
   "source": [
    "import lancedb\n",
    "from lancedb.table import Table\n",
    "from lancedb.pydantic import pydantic_to_schema\n",
    "\n",
    "from models.data_models import VideoData, VideoSegmentData\n",
    "from mm_vector_stores.multimodal_lancedb import MultiModalLanceDB\n",
    "from mm_emeddings.openclip_embeddings import OpenClipEmbeddings\n",
    "from utils.logger import logger"
   ]
  },
  {
   "cell_type": "code",
   "execution_count": 40,
   "metadata": {},
   "outputs": [],
   "source": [
    "db = MultiModalLanceDB(uri=\"/home/zalasyu/Documents/projects/multimodal_chatbot/data/multimodal_lancedb\")\n",
    "embedder = OpenClipEmbeddings()"
   ]
  },
  {
   "cell_type": "code",
   "execution_count": 41,
   "metadata": {},
   "outputs": [],
   "source": [
    "video_segments_table = db.get_table(\"VideoSegments\")"
   ]
  },
  {
   "cell_type": "code",
   "execution_count": 42,
   "metadata": {},
   "outputs": [
    {
     "data": {
      "text/plain": [
       "pyarrow.Table\n",
       "id: int64 not null\n",
       "parent_video_id: string not null\n",
       "parent_video_path: string not null\n",
       "parent_audio_path: string not null\n",
       "parent_vtt_path: string not null\n",
       "video_segment_path: string not null\n",
       "video_segment_transcript_path: string not null\n",
       "frame_path: string not null\n",
       "transcript: string not null\n",
       "enriched_transcript: string not null\n",
       "duration_ms: double not null\n",
       "start_ms: double not null\n",
       "mid_ms: double not null\n",
       "end_ms: double not null\n",
       "embeddings: fixed_size_list<item: float>[512] not null\n",
       "  child 0, item: float\n",
       "embeddings_from_text: fixed_size_list<item: float>[512] not null\n",
       "  child 0, item: float\n",
       "----\n",
       "id: [[0,1,2,3,4]]\n",
       "parent_video_id: [[\"LAzKGkTIKpg\",\"LAzKGkTIKpg\",\"LAzKGkTIKpg\",\"LAzKGkTIKpg\",\"LAzKGkTIKpg\"]]\n",
       "parent_video_path: [[\"/home/zalasyu/Documents/projects/multimodal_chatbot/data/raw/videos/YouTube/LITERATURE_-_Voltaire_LAzKGkTIKpg.mp4\",\"/home/zalasyu/Documents/projects/multimodal_chatbot/data/raw/videos/YouTube/LITERATURE_-_Voltaire_LAzKGkTIKpg.mp4\",\"/home/zalasyu/Documents/projects/multimodal_chatbot/data/raw/videos/YouTube/LITERATURE_-_Voltaire_LAzKGkTIKpg.mp4\",\"/home/zalasyu/Documents/projects/multimodal_chatbot/data/raw/videos/YouTube/LITERATURE_-_Voltaire_LAzKGkTIKpg.mp4\",\"/home/zalasyu/Documents/projects/multimodal_chatbot/data/raw/videos/YouTube/LITERATURE_-_Voltaire_LAzKGkTIKpg.mp4\"]]\n",
       "parent_audio_path: [[\"/home/zalasyu/Documents/projects/multimodal_chatbot/data/raw/audios/YouTube/LITERATURE_-_Voltaire_LAzKGkTIKpg.mp3\",\"/home/zalasyu/Documents/projects/multimodal_chatbot/data/raw/audios/YouTube/LITERATURE_-_Voltaire_LAzKGkTIKpg.mp3\",\"/home/zalasyu/Documents/projects/multimodal_chatbot/data/raw/audios/YouTube/LITERATURE_-_Voltaire_LAzKGkTIKpg.mp3\",\"/home/zalasyu/Documents/projects/multimodal_chatbot/data/raw/audios/YouTube/LITERATURE_-_Voltaire_LAzKGkTIKpg.mp3\",\"/home/zalasyu/Documents/projects/multimodal_chatbot/data/raw/audios/YouTube/LITERATURE_-_Voltaire_LAzKGkTIKpg.mp3\"]]\n",
       "parent_vtt_path: [[\"data/raw/transcripts/YouTube/LITERATURE_-_Voltaire_LAzKGkTIKpg.vtt\",\"data/raw/transcripts/YouTube/LITERATURE_-_Voltaire_LAzKGkTIKpg.vtt\",\"data/raw/transcripts/YouTube/LITERATURE_-_Voltaire_LAzKGkTIKpg.vtt\",\"data/raw/transcripts/YouTube/LITERATURE_-_Voltaire_LAzKGkTIKpg.vtt\",\"data/raw/transcripts/YouTube/LITERATURE_-_Voltaire_LAzKGkTIKpg.vtt\"]]\n",
       "video_segment_path: [[\"/home/zalasyu/Documents/projects/multimodal_chatbot/data/processed/video_frames/LAzKGkTIKpg/segment_0/segment_0.mp4\",\"/home/zalasyu/Documents/projects/multimodal_chatbot/data/processed/video_frames/LAzKGkTIKpg/segment_1/segment_1.mp4\",\"/home/zalasyu/Documents/projects/multimodal_chatbot/data/processed/video_frames/LAzKGkTIKpg/segment_2/segment_2.mp4\",\"/home/zalasyu/Documents/projects/multimodal_chatbot/data/processed/video_frames/LAzKGkTIKpg/segment_3/segment_3.mp4\",\"/home/zalasyu/Documents/projects/multimodal_chatbot/data/processed/video_frames/LAzKGkTIKpg/segment_4/segment_4.mp4\"]]\n",
       "video_segment_transcript_path: [[\"/home/zalasyu/Documents/projects/multimodal_chatbot/data/processed/video_frames/LAzKGkTIKpg/segment_0/segment_0.vtt\",\"/home/zalasyu/Documents/projects/multimodal_chatbot/data/processed/video_frames/LAzKGkTIKpg/segment_1/segment_1.vtt\",\"/home/zalasyu/Documents/projects/multimodal_chatbot/data/processed/video_frames/LAzKGkTIKpg/segment_2/segment_2.vtt\",\"/home/zalasyu/Documents/projects/multimodal_chatbot/data/processed/video_frames/LAzKGkTIKpg/segment_3/segment_3.vtt\",\"/home/zalasyu/Documents/projects/multimodal_chatbot/data/processed/video_frames/LAzKGkTIKpg/segment_4/segment_4.vtt\"]]\n",
       "frame_path: [[\"/home/zalasyu/Documents/projects/multimodal_chatbot/data/processed/video_frames/LAzKGkTIKpg/segment_0/frame_12000.jpg\",\"/home/zalasyu/Documents/projects/multimodal_chatbot/data/processed/video_frames/LAzKGkTIKpg/segment_1/frame_17000.jpg\",\"/home/zalasyu/Documents/projects/multimodal_chatbot/data/processed/video_frames/LAzKGkTIKpg/segment_2/frame_23000.jpg\",\"/home/zalasyu/Documents/projects/multimodal_chatbot/data/processed/video_frames/LAzKGkTIKpg/segment_3/frame_29500.jpg\",\"/home/zalasyu/Documents/projects/multimodal_chatbot/data/processed/video_frames/LAzKGkTIKpg/segment_4/frame_36000.jpg\"]]\n",
       "transcript: [[\"François-Marie Arouet was born in Paris in 1694. His father, a well-established lawyer,\",\"sent him to the best school in the capital, and by all accounts he was a brilliant student.\",\"The young Arouet decided at an early age to make his name as a writer, or rather to remake\",\"his name, as the first thing he did was to change this name to Voltaire. The 18th century is often\",\"referred to as the age of reason or the age of enlightenment, but sometimes more fairly,\"]]\n",
       "enriched_transcript: [[\"François-Marie Arouet was born in Paris in 1694. His father, a well-established lawyer, sent him to the best school in the capital, and by all accounts he was a brilliant student. The young Arouet decided at an early age to make his name as a writer, or rather to remake his name, as the first thing he did was to change this name to Voltaire. The 18th century is often referred to as the age of reason or the age of enlightenment, but sometimes more fairly, simply as the age of Voltaire. So changing his name was a good call. The age of Arouet would just not have worked quite as well. Voltaire was precociously talented as a poet. At the age of only 24, he had his first verse tragedy performed at the Comédie Francaise. By then, he had already begun work on an epic poem about the French religious civil wars of the 16th century, glorifying Henry IV as the king who brought peace by pragmatically converting from Protestantism to Catholicism. This was to be a subject dear to Voltaire's heart. For under the guise of writing a national epic, he was dwelling at length on the bloody consequences of religious intolerance. Right from the start, Voltaire's views on religion were expressed robustly. He was not an atheist,\",\"François-Marie Arouet was born in Paris in 1694. His father, a well-established lawyer, sent him to the best school in the capital, and by all accounts he was a brilliant student. The young Arouet decided at an early age to make his name as a writer, or rather to remake his name, as the first thing he did was to change this name to Voltaire. The 18th century is often referred to as the age of reason or the age of enlightenment, but sometimes more fairly, simply as the age of Voltaire. So changing his name was a good call. The age of Arouet would just not have worked quite as well. Voltaire was precociously talented as a poet. At the age of only 24, he had his first verse tragedy performed at the Comédie Francaise. By then, he had already begun work on an epic poem about the French religious civil wars of the 16th century, glorifying Henry IV as the king who brought peace by pragmatically converting from Protestantism to Catholicism. This was to be a subject dear to Voltaire's heart. For under the guise of writing a national epic, he was dwelling at length on the bloody consequences of religious intolerance. Right from the start, Voltaire's views on religion were expressed robustly. He was not an atheist, in part because he thought that some minimal belief in a deity was useful for social cohesion.\",\"François-Marie Arouet was born in Paris in 1694. His father, a well-established lawyer, sent him to the best school in the capital, and by all accounts he was a brilliant student. The young Arouet decided at an early age to make his name as a writer, or rather to remake his name, as the first thing he did was to change this name to Voltaire. The 18th century is often referred to as the age of reason or the age of enlightenment, but sometimes more fairly, simply as the age of Voltaire. So changing his name was a good call. The age of Arouet would just not have worked quite as well. Voltaire was precociously talented as a poet. At the age of only 24, he had his first verse tragedy performed at the Comédie Francaise. By then, he had already begun work on an epic poem about the French religious civil wars of the 16th century, glorifying Henry IV as the king who brought peace by pragmatically converting from Protestantism to Catholicism. This was to be a subject dear to Voltaire's heart. For under the guise of writing a national epic, he was dwelling at length on the bloody consequences of religious intolerance. Right from the start, Voltaire's views on religion were expressed robustly. He was not an atheist, in part because he thought that some minimal belief in a deity was useful for social cohesion. Voltaire's god had created the world, instilled in us a sense of good and evil, and then basically\",\"François-Marie Arouet was born in Paris in 1694. His father, a well-established lawyer, sent him to the best school in the capital, and by all accounts he was a brilliant student. The young Arouet decided at an early age to make his name as a writer, or rather to remake his name, as the first thing he did was to change this name to Voltaire. The 18th century is often referred to as the age of reason or the age of enlightenment, but sometimes more fairly, simply as the age of Voltaire. So changing his name was a good call. The age of Arouet would just not have worked quite as well. Voltaire was precociously talented as a poet. At the age of only 24, he had his first verse tragedy performed at the Comédie Francaise. By then, he had already begun work on an epic poem about the French religious civil wars of the 16th century, glorifying Henry IV as the king who brought peace by pragmatically converting from Protestantism to Catholicism. This was to be a subject dear to Voltaire's heart. For under the guise of writing a national epic, he was dwelling at length on the bloody consequences of religious intolerance. Right from the start, Voltaire's views on religion were expressed robustly. He was not an atheist, in part because he thought that some minimal belief in a deity was useful for social cohesion. Voltaire's god had created the world, instilled in us a sense of good and evil, and then basically taken a back seat. This was known as rational religion, or in the 18th century called natural\",\"François-Marie Arouet was born in Paris in 1694. His father, a well-established lawyer, sent him to the best school in the capital, and by all accounts he was a brilliant student. The young Arouet decided at an early age to make his name as a writer, or rather to remake his name, as the first thing he did was to change this name to Voltaire. The 18th century is often referred to as the age of reason or the age of enlightenment, but sometimes more fairly, simply as the age of Voltaire. So changing his name was a good call. The age of Arouet would just not have worked quite as well. Voltaire was precociously talented as a poet. At the age of only 24, he had his first verse tragedy performed at the Comédie Francaise. By then, he had already begun work on an epic poem about the French religious civil wars of the 16th century, glorifying Henry IV as the king who brought peace by pragmatically converting from Protestantism to Catholicism. This was to be a subject dear to Voltaire's heart. For under the guise of writing a national epic, he was dwelling at length on the bloody consequences of religious intolerance. Right from the start, Voltaire's views on religion were expressed robustly. He was not an atheist, in part because he thought that some minimal belief in a deity was useful for social cohesion. Voltaire's god had created the world, instilled in us a sense of good and evil, and then basically taken a back seat. This was known as rational religion, or in the 18th century called natural religion, or deism. And it had no truck with metaphysics of any kind. Voltaire was basically\"]]\n",
       "..."
      ]
     },
     "execution_count": 42,
     "metadata": {},
     "output_type": "execute_result"
    }
   ],
   "source": [
    "video_segments_table.head()"
   ]
  },
  {
   "cell_type": "code",
   "execution_count": 43,
   "metadata": {},
   "outputs": [],
   "source": [
    "df = video_segments_table.to_pandas()"
   ]
  },
  {
   "cell_type": "code",
   "execution_count": 44,
   "metadata": {},
   "outputs": [
    {
     "data": {
      "text/plain": [
       "array([-1.89677011e-02,  3.87634188e-02, -4.88557331e-02,  2.08378900e-02,\n",
       "       -1.60907805e-02,  1.19528512e-03, -8.22642632e-03, -6.14895485e-02,\n",
       "        5.02643846e-02,  3.80183421e-02,  3.60288098e-02,  2.14225259e-02,\n",
       "        4.70582722e-03,  3.26005295e-02, -3.40997078e-03, -1.39579009e-02,\n",
       "       -9.14369598e-02, -6.08020276e-03, -2.11765841e-02,  2.89206114e-02,\n",
       "        2.54447194e-04,  5.65460958e-02, -4.17123847e-02, -2.93858275e-02,\n",
       "       -1.33415852e-02, -4.81536938e-03, -2.93757487e-02,  5.97635005e-03,\n",
       "        2.46532690e-02, -3.68576264e-03,  1.39504690e-02, -9.78946406e-03,\n",
       "       -3.59654278e-02,  2.28330027e-02,  5.99482330e-03,  1.69934593e-02,\n",
       "        2.62959730e-02, -5.44480272e-02,  2.23583318e-02,  1.30270664e-02,\n",
       "       -3.93417738e-02, -6.14391044e-02,  1.72194000e-02, -3.23664993e-02,\n",
       "       -8.23974703e-03, -3.98813859e-02, -5.56484796e-03,  1.03183435e-02,\n",
       "       -4.58829850e-02, -2.30268482e-02,  1.77339986e-02, -1.62703041e-02,\n",
       "       -4.82203235e-04, -4.08696383e-02,  1.69743657e-01, -3.76828276e-02,\n",
       "       -2.17014439e-02,  4.53240424e-02, -5.38890250e-03, -3.84887517e-03,\n",
       "        3.13056260e-02,  1.59609895e-02, -2.90467823e-03, -1.75377983e-03,\n",
       "        2.20813509e-02,  1.03873396e-02,  2.05794778e-02,  1.35405269e-02,\n",
       "       -1.28587307e-02,  4.96422388e-02, -4.33344036e-01, -3.47107984e-02,\n",
       "        2.09549256e-02, -7.02267215e-02,  6.23370893e-03,  7.45953992e-03,\n",
       "       -4.53244150e-02, -5.82043901e-02,  5.44516109e-02, -3.71609293e-02,\n",
       "        1.41838007e-02, -9.41095687e-03,  3.89647819e-02, -2.19160616e-02,\n",
       "       -2.60607321e-02,  3.81296780e-03,  1.25791524e-02, -2.07371004e-02,\n",
       "        6.09508902e-03,  1.48331663e-02,  3.01237758e-02,  1.69107188e-02,\n",
       "        2.03596540e-02,  2.85300985e-02,  4.76029254e-02,  3.53826247e-02,\n",
       "       -4.35952693e-02, -1.21849105e-02, -4.49616276e-02,  1.99284106e-02,\n",
       "       -8.62620473e-02, -8.71804208e-02, -3.05552185e-02, -6.90676365e-03,\n",
       "       -5.29176518e-02,  1.58408808e-03, -1.82291456e-02, -1.09147113e-02,\n",
       "        2.13779565e-02,  1.52920922e-02, -1.05706155e-02,  5.50824078e-03,\n",
       "        8.90959520e-03,  1.77879874e-02,  7.86910299e-03, -8.55341647e-03,\n",
       "        4.06831503e-03, -5.30578569e-03,  1.05872890e-02,  4.61800545e-02,\n",
       "       -2.96379644e-02,  1.02062486e-02, -1.98015547e-03,  2.68238652e-02,\n",
       "        1.98932905e-02, -8.21605977e-03,  9.33879521e-03,  4.08347063e-02,\n",
       "        1.61920972e-02, -3.60150859e-02,  2.22227965e-02, -3.39523405e-02,\n",
       "       -7.00179779e-04, -3.15343514e-02,  2.80331131e-02, -1.24077424e-02,\n",
       "       -1.61438286e-02, -2.53265593e-02,  5.97081054e-03,  8.47454555e-03,\n",
       "       -4.93138470e-02,  3.24394517e-02,  2.58613843e-02, -5.27009740e-02,\n",
       "        3.79283056e-02, -3.92215848e-02, -1.96369868e-02,  6.12903573e-03,\n",
       "        3.89639735e-02, -1.69753116e-02, -3.51845957e-02, -1.83752831e-02,\n",
       "        1.03167363e-01,  1.78727845e-03,  3.28079313e-02, -5.55815501e-03,\n",
       "        4.78897206e-02,  1.89315621e-02, -2.64842547e-02, -5.71056008e-02,\n",
       "        3.31732482e-02,  4.55877930e-02,  2.82161608e-02,  4.85347547e-02,\n",
       "       -1.86198037e-02, -5.21542877e-02, -5.01951240e-02, -2.45335903e-02,\n",
       "       -5.31212129e-02,  3.98456864e-03, -8.43698066e-03, -4.83927615e-02,\n",
       "        1.25011487e-03,  3.53834331e-02, -6.23955205e-03, -3.44125554e-02,\n",
       "        9.64029320e-03, -3.54770273e-02,  6.65384084e-02,  2.76365113e-02,\n",
       "        4.28039357e-02, -2.55719572e-02,  1.22347558e-02,  4.37901281e-02,\n",
       "       -2.89973859e-02, -1.09862797e-02,  2.91597582e-02, -3.92405540e-02,\n",
       "        3.62909511e-02, -3.34018432e-02, -7.98220094e-03, -1.42862229e-02,\n",
       "       -3.95976529e-02,  1.94980837e-02, -6.60410747e-02,  8.68196115e-02,\n",
       "       -3.61144394e-02,  1.73594442e-03,  6.97911382e-02, -2.51856260e-02,\n",
       "       -1.22358231e-03,  3.22617739e-02,  5.73986955e-02, -8.53734033e-04,\n",
       "       -1.52610438e-02, -3.88425193e-04,  3.10431812e-02, -1.84195992e-02,\n",
       "       -1.88781172e-02,  2.15709023e-02,  1.68573502e-02,  5.04322164e-02,\n",
       "        1.85315814e-02, -1.93140395e-02,  3.36555168e-02, -3.88877909e-03,\n",
       "       -3.17566171e-02,  3.45166749e-03, -6.20208867e-03,  4.32102159e-02,\n",
       "       -3.95546220e-02, -1.01533113e-03,  1.74187068e-02,  5.98758459e-02,\n",
       "        1.72418561e-02, -4.27157171e-02, -4.74715754e-02, -7.36952014e-03,\n",
       "        7.82651920e-03,  1.05052898e-02,  4.89031747e-02,  3.72296497e-02,\n",
       "       -4.47826897e-04, -3.94797809e-02, -8.46309513e-02,  4.78670280e-03,\n",
       "       -4.92585339e-02, -1.03402212e-02,  9.42937005e-03,  8.02385248e-03,\n",
       "        7.16027990e-03,  3.27479541e-02,  5.03284950e-03,  2.63593066e-02,\n",
       "       -3.98970209e-02,  3.99286188e-02,  4.80614565e-02, -3.26729356e-03,\n",
       "       -1.10872589e-01, -4.02919995e-03, -5.62848076e-02, -3.05188652e-02,\n",
       "        2.30947118e-02, -4.33135420e-01, -5.11281081e-02, -4.29047979e-02,\n",
       "        2.50444841e-02,  9.98680247e-04, -5.70518859e-02,  1.59266163e-02,\n",
       "        1.19412392e-02, -5.77310892e-03, -6.35285105e-04, -1.71010420e-02,\n",
       "       -1.32041993e-02,  1.68122463e-02,  4.06440496e-02,  8.95376224e-03,\n",
       "       -2.50049663e-04,  8.00795481e-03, -4.28904667e-02, -2.22159605e-02,\n",
       "        7.70893972e-03, -1.18336882e-02,  4.44653034e-02,  3.87833314e-03,\n",
       "       -1.47382990e-02, -5.97497681e-03,  1.69909094e-02,  3.81247140e-02,\n",
       "       -5.53563945e-02, -6.24974370e-02, -3.02636996e-02, -4.42060409e-03,\n",
       "        1.28736142e-02, -4.73018549e-03, -1.44194225e-02,  4.81717177e-02,\n",
       "       -1.42793655e-02,  2.17433404e-02,  6.43887883e-03, -5.67739010e-02,\n",
       "       -2.49330942e-02, -8.79617315e-03, -4.34374362e-02, -4.34242189e-03,\n",
       "       -2.74095871e-02,  8.51683319e-03, -1.71691086e-02, -3.56476195e-02,\n",
       "        1.23229250e-02, -1.13311391e-02, -1.00172088e-02, -3.34215425e-02,\n",
       "        2.37348489e-02, -9.62220971e-03,  1.22512005e-01, -1.03244290e-01,\n",
       "        7.07727158e-03, -2.80838516e-02,  2.02576239e-02,  2.48405542e-02,\n",
       "       -2.15896014e-02, -2.54117008e-02, -2.91459840e-02,  1.45463541e-03,\n",
       "       -2.72860099e-02,  1.26561383e-02,  7.94163905e-03,  3.87246944e-02,\n",
       "       -7.83221424e-03, -1.57941189e-02,  2.25562081e-02, -3.30078863e-02,\n",
       "       -1.00676686e-01,  1.70256309e-02, -1.00673572e-03, -7.25809904e-03,\n",
       "        2.76356246e-02, -2.61118859e-02, -1.39717693e-02,  1.86333470e-02,\n",
       "       -2.67634448e-02,  5.18032684e-05, -2.91861575e-02, -1.10141849e-02,\n",
       "        3.87355834e-02,  1.94928925e-02, -6.16037361e-02,  3.37524600e-02,\n",
       "       -1.41289653e-02,  1.71729606e-02,  1.13028530e-02, -1.60727743e-03,\n",
       "       -6.01490773e-02, -3.32723744e-02,  4.50051874e-02, -4.36863489e-02,\n",
       "       -1.96878128e-02,  1.42007386e-02,  1.97430272e-02,  1.02392528e-02,\n",
       "       -3.10481545e-02,  2.86026187e-02,  5.54752238e-02, -7.44127184e-02,\n",
       "        2.81743892e-02, -5.63289560e-02, -2.64274590e-02,  3.90160903e-02,\n",
       "        4.14762199e-02,  2.01582368e-02,  4.05572876e-02,  4.64227833e-02,\n",
       "       -1.70107484e-02,  1.85630750e-02, -5.59540046e-03, -6.08900795e-03,\n",
       "        1.28734723e-01, -1.15129107e-03, -1.58159863e-02,  6.74687792e-03,\n",
       "       -6.01819754e-02, -3.95698175e-02, -1.86940283e-02, -4.60733324e-02,\n",
       "       -2.47254353e-02, -3.87372039e-02,  2.70632003e-02,  2.31621787e-02,\n",
       "        1.25379665e-02, -4.03639488e-03, -2.22076476e-03, -4.16282453e-02,\n",
       "       -2.06433907e-02,  1.18313625e-01,  1.98034141e-02, -2.60855108e-02,\n",
       "        1.50419632e-02,  2.11808532e-02, -4.50841449e-02, -1.83641110e-02,\n",
       "       -2.11209767e-02,  3.46774198e-02, -7.23591587e-03,  3.02867591e-02,\n",
       "       -8.83110799e-03,  2.62196064e-02, -3.97600494e-02, -6.72596181e-03,\n",
       "        8.87428876e-03,  3.78954709e-02,  1.90258678e-02,  6.17288314e-02,\n",
       "       -4.13037874e-02, -4.42973971e-02,  1.41767403e-02, -7.78895617e-02,\n",
       "        1.98392272e-02,  4.21747984e-03, -2.62885690e-02,  3.40106338e-02,\n",
       "        5.59461266e-02, -1.51775377e-02, -3.36534251e-03, -7.17065670e-03,\n",
       "       -3.89427319e-02,  5.43979579e-04,  3.68316174e-02,  1.20995436e-02,\n",
       "        2.34008245e-02, -1.37475878e-03, -1.14586875e-02,  3.73168587e-04,\n",
       "       -6.41927123e-02,  4.88915183e-02, -4.10679448e-03, -9.13812891e-02,\n",
       "        8.82858876e-03, -2.35293172e-02, -1.13861561e-02,  2.60483865e-02,\n",
       "        5.15960902e-02, -2.26322282e-02, -4.78987359e-02, -3.28408442e-02,\n",
       "        5.70232458e-02,  8.15351494e-03, -1.80372037e-02, -1.47580421e-02,\n",
       "       -6.65069371e-03,  6.99160621e-02,  1.35143325e-02, -5.13869859e-02,\n",
       "        1.78142618e-02,  1.18351949e-03, -3.79004180e-02,  3.96525078e-02,\n",
       "       -2.19381996e-03, -1.34019377e-02, -2.57454906e-02,  3.29055935e-02,\n",
       "       -1.78237744e-02, -4.10354026e-02,  4.19604406e-02,  5.08762710e-02,\n",
       "        3.38704512e-02, -3.22502218e-02,  3.04517383e-03, -1.93376924e-04,\n",
       "       -1.53467618e-02, -5.83531847e-03, -5.80701465e-03, -4.18941453e-02,\n",
       "       -3.24569605e-02, -1.22847101e-02, -2.48962976e-02,  3.15046087e-02,\n",
       "       -2.40292065e-02, -4.26010601e-02, -2.70727687e-02,  7.14542121e-02,\n",
       "        9.54467338e-03, -2.51043793e-02,  1.60692073e-03,  7.25379512e-02,\n",
       "       -4.67493571e-02, -2.52131857e-02, -2.58688326e-03, -2.36129891e-02,\n",
       "       -5.25294356e-02,  4.04918343e-02,  2.13666894e-02,  2.36547575e-03,\n",
       "        3.34217213e-02,  1.60581823e-02,  2.82379352e-02,  2.16570543e-03,\n",
       "        4.01432030e-02, -2.51701903e-02, -7.72795500e-03, -7.71547947e-03,\n",
       "        5.36446050e-02, -1.83919650e-02,  3.61168012e-02,  1.03357963e-01,\n",
       "        4.40440280e-03,  4.37924042e-02, -2.99520697e-02, -4.14773449e-02,\n",
       "        6.01836387e-03, -6.35948207e-04,  3.89278233e-02, -1.96481291e-02,\n",
       "       -4.02400689e-03, -2.49197204e-02, -4.44948822e-02, -2.86070555e-02,\n",
       "        2.77128909e-02,  5.84681556e-02, -2.88216537e-03,  7.72436429e-03],\n",
       "      dtype=float32)"
      ]
     },
     "execution_count": 44,
     "metadata": {},
     "output_type": "execute_result"
    }
   ],
   "source": [
    "df[\"embeddings_from_text\"][4]"
   ]
  },
  {
   "cell_type": "markdown",
   "metadata": {},
   "source": [
    "## Query Testing"
   ]
  },
  {
   "cell_type": "code",
   "execution_count": 45,
   "metadata": {},
   "outputs": [],
   "source": [
    "query = \"Who did Voltaire try to save from execution?\"\n",
    "query_embedding = embedder.compute_query_embeddings(query)"
   ]
  },
  {
   "cell_type": "code",
   "execution_count": 46,
   "metadata": {},
   "outputs": [
    {
     "data": {
      "text/plain": [
       "512"
      ]
     },
     "execution_count": 46,
     "metadata": {},
     "output_type": "execute_result"
    }
   ],
   "source": [
    "len(query_embedding[0])"
   ]
  },
  {
   "cell_type": "code",
   "execution_count": 47,
   "metadata": {},
   "outputs": [],
   "source": [
    "# Search for relevant video segments\n",
    "results = (\n",
    "    video_segments_table.search(query_embedding[0], vector_column_name=\"embeddings_from_text\")\n",
    "    .metric(\"cosine\")\n",
    "    .limit(3)\n",
    "    .to_list()\n",
    ")"
   ]
  },
  {
   "cell_type": "code",
   "execution_count": 48,
   "metadata": {},
   "outputs": [
    {
     "name": "stdout",
     "output_type": "stream",
     "text": [
      "Result 0:\n",
      "Voltaire, who'd learned an important lesson about how change could be brought about through the pressure of public opinion. Opinion rules the world, he wrote in 1764, but in the long run, it's the philosophers who shape this opinion. Voltaire said of himself that he wrote to act, and he wanted his writings to change the way people thought and behaved. In leading his crusades against fanaticism, he even invented a campaign slogan, écraser la femme, which translates roughly as crush the despicable. La femme stands here for everything that Voltaire hated, everything that he had spent his life fighting, superstition, intolerance, irrational behaviour of every kind. We should never forget that Voltaire was also a brilliant writer, one of the greatest stylists the French language has ever known. The power of his ideas had a lot to do with the power of his expression. Many writers made fun of miracles, no one did so as hilariously as Voltaire. Always Voltaire had an ear for the telling phrase. If God had not existed, it would have been necessary to invent him. It's a good line, even in English, and better still in the original French, where it's more memorable because it's a classical Alexandrine line in 12 syllables. Voltaire's legacy in our present debates about religious toleration remain extremely potent. Hardly a week passes without an article in the press quoting, I disapprove of what you say, but I will defend to the death your right to say it. This rallying cry of tolerant multiculturalism is so potent that if Voltaire hadn't said it, we would have had to invent it. Which is what happened. The expression was invented by an English woman in 1906. No matter, it expresses a truth which is fundamentally important to our culture, so we have adopted the phrase and decided that Voltaire said it. Voltaire's name has become synonymous with a set of liberal values, freedom of speech, rejection of bigotry and superstition,\n",
      "0.16408061981201172\n",
      "Result 1:\n",
      "culture. Voltaire's writings had enormous impact on public opinion, and eventually the judges in Paris quashed the judgment of the Toulouse court. Too late to save Calas, but a huge victory for Voltaire, who'd learned an important lesson about how change could be brought about through the pressure of public opinion. Opinion rules the world, he wrote in 1764, but in the long run, it's the philosophers who shape this opinion. Voltaire said of himself that he wrote to act, and he wanted his writings to change the way people thought and behaved. In leading his crusades against fanaticism, he even invented a campaign slogan, écraser la femme, which translates roughly as crush the despicable. La femme stands here for everything that Voltaire hated, everything that he had spent his life fighting, superstition, intolerance, irrational behaviour of every kind. We should never forget that Voltaire was also a brilliant writer, one of the greatest stylists the French language has ever known. The power of his ideas had a lot to do with the power of his expression. Many writers made fun of miracles, no one did so as hilariously as Voltaire. Always Voltaire had an ear for the telling phrase. If God had not existed, it would have been necessary to invent him. It's a good line, even in English, and better still in the original French, where it's more memorable because it's a classical Alexandrine line in 12 syllables. Voltaire's legacy in our present debates about religious toleration remain extremely potent. Hardly a week passes without an article in the press quoting, I disapprove of what you say, but I will defend to the death your right to say it. This rallying cry of tolerant multiculturalism is so potent that if Voltaire hadn't said it, we would have had to invent it. Which is what happened. The expression was invented by an English woman in 1906. No matter, it expresses a truth which is fundamentally important to our culture, so we have adopted the phrase and decided that Voltaire said it. Voltaire's name has become synonymous with a set of liberal values, freedom of speech, rejection of bigotry and superstition,\n",
      "0.18542540073394775\n",
      "Result 2:\n",
      "would just not have worked quite as well. Voltaire was precociously talented as a poet. At the age of only 24, he had his first verse tragedy performed at the Comédie Francaise. By then, he had already begun work on an epic poem about the French religious civil wars of the 16th century, glorifying Henry IV as the king who brought peace by pragmatically converting from Protestantism to Catholicism. This was to be a subject dear to Voltaire's heart. For under the guise of writing a national epic, he was dwelling at length on the bloody consequences of religious intolerance. Right from the start, Voltaire's views on religion were expressed robustly. He was not an atheist, in part because he thought that some minimal belief in a deity was useful for social cohesion. Voltaire's god had created the world, instilled in us a sense of good and evil, and then basically taken a back seat. This was known as rational religion, or in the 18th century called natural religion, or deism. And it had no truck with metaphysics of any kind. Voltaire was basically a man of reason who loathed fanaticism, idolatry, and superstition. That men can kill each other to defend some bit of religious doctrine which they scarcely understand is something he found repellent. And he reserved his greatest hatred for the clerics who exploited the credulity of believers to maintain their own power base. Voltaire wanted religion, but not the church. For obvious reasons, the Catholic authorities were not keen for Voltaire's poem about Henry IV, La Henriade, to be published in France. So Voltaire decided to go and publish it in London instead, and in 1726 went and travelled to England. What began as a business trip soon turned, however, into something quite different, and Voltaire ended up staying in England for some two and a half years. He learned to speak English fluently, got to know writers and politicians, and became a great admirer of English Protestant culture. He decided to write a book about his experience of England, and the letters concerning the English nation appeared first in English in 1733. The French authorities were horrified, the book was censored, and Voltaire only narrowly avoided prison. That's because the book presented an informal portrait of English culture in a witty and ironical style, looking in turn at religion, politics, science and literature, in ways that\n",
      "0.1873127818107605\n"
     ]
    }
   ],
   "source": [
    "for i, result in enumerate(results):\n",
    "    print(f\"Result {i}:\")\n",
    "    print(result[\"enriched_transcript\"])\n",
    "    print(result[\"_distance\"])"
   ]
  },
  {
   "cell_type": "code",
   "execution_count": null,
   "metadata": {},
   "outputs": [],
   "source": []
  }
 ],
 "metadata": {
  "kernelspec": {
   "display_name": "multimodal-chatbot-gKQKVxne-py3.12",
   "language": "python",
   "name": "python3"
  },
  "language_info": {
   "codemirror_mode": {
    "name": "ipython",
    "version": 3
   },
   "file_extension": ".py",
   "mimetype": "text/x-python",
   "name": "python",
   "nbconvert_exporter": "python",
   "pygments_lexer": "ipython3",
   "version": "3.12.7"
  }
 },
 "nbformat": 4,
 "nbformat_minor": 2
}
